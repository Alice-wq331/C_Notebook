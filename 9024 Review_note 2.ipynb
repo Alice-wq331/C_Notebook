{
 "cells": [
  {
   "cell_type": "markdown",
   "id": "423486ff",
   "metadata": {},
   "source": [
    "### 一. Pseudocode Format\n",
    "1. if...then...(else)...end if\n",
    "2. while...do...end while\n",
    "3. for (all/each)..do..end for\n",
    "4. repeat..until.."
   ]
  },
  {
   "cell_type": "markdown",
   "id": "4390834b",
   "metadata": {},
   "source": [
    "### 二.Theoretical Analysis\n",
    "#### Primitive operations\n",
    "1. evaluation of an expression\n",
    "2. index into an array\n",
    "3. call/return from a function\n",
    "\n",
    "#### Characteristics\n",
    "1. Basic computations performed by an algorithm\n",
    "2. Largely independent of programming languages\n",
    "3. Exact definition are not important\n",
    "4. Assumed to take a constant amount of time in the RAM model"
   ]
  },
  {
   "cell_type": "markdown",
   "id": "ac16270d",
   "metadata": {},
   "source": [
    "### 三. InsertionSort Algorithm"
   ]
  },
  {
   "cell_type": "code",
   "execution_count": 5,
   "id": "9394e666",
   "metadata": {},
   "outputs": [
    {
     "name": "stdout",
     "output_type": "stream",
     "text": [
      "2,2,4,5,9,11,13,"
     ]
    }
   ],
   "source": [
    "#include <stdio.h>\n",
    "#include <stdlib.h>\n",
    "\n",
    "void insertionSort(int arr[], int len){\n",
    "    for(int i=1;i<len;i++){\n",
    "        int Element=arr[i];\n",
    "        int j=i-1;\n",
    "        while(j>=0 && arr[j]>Element){\n",
    "            arr[j+1]=arr[j];\n",
    "            j--;\n",
    "        }\n",
    "        arr[j+1]=Element;\n",
    "    }\n",
    "}\n",
    "\n",
    "int main(){\n",
    "    int arr[]={4,2,13,5,2,11,9};\n",
    "    int len=7;\n",
    "    insertionSort(arr,len);\n",
    "    for (int i=0;i<len;i++){\n",
    "        printf(\"%d,\",arr[i]);\n",
    "    }\n",
    "    return 0;\n",
    "}"
   ]
  },
  {
   "cell_type": "markdown",
   "id": "ec797607",
   "metadata": {},
   "source": [
    "Note : The algorithnm is \n",
    "$$O(n^2)$$<br>\n",
    "Best known sorting algorithms are *O(n log n)*. <br>e.g. **Quicksort**(week10)"
   ]
  },
  {
   "cell_type": "markdown",
   "id": "63a50ddd",
   "metadata": {},
   "source": [
    "### 四. Relatives of the Big-Oh: *big-Omega*: $\\Omega$(g(n)) ; $\\Theta$(g(n))"
   ]
  },
  {
   "cell_type": "markdown",
   "id": "a1147689",
   "metadata": {},
   "source": [
    "**$\\cdot$** $f(n) \\in \\Omega(g(n))$ if there is a constant c>0 and an integer constant $n_0 >=1$ s.t.<br>\n",
    "$$f(n)>=c\\cdot g(n) ,\\forall n >= n_0$$"
   ]
  },
  {
   "cell_type": "markdown",
   "id": "05eb159d",
   "metadata": {},
   "source": [
    "$\\cdot$ $f(n) \\in \\Theta(g(n))$ if there are constants c',c''>0 and an integer constant $n_0 >=1$ s.t.<br>\n",
    "$$c'\\cdot g(n)<=f(n)<=c''\\cdot g(n) ,\\forall n >= n_0$$"
   ]
  },
  {
   "cell_type": "markdown",
   "id": "754e8dfd",
   "metadata": {},
   "source": [
    "**Summary**<br>\n",
    "· f(n) belongs to O(g(n)) if f(n) is asymptotically less than or equal to g(n)<br>\n",
    "· f(n) belongs to $\\Omega$(g(n)) if f(n) is asymptotically greater than or equal to g(n) <br>\n",
    "· f(n) belongs to $\\Theta$(g(n)) if f(n) is asymptotically equal to g(n)"
   ]
  },
  {
   "cell_type": "markdown",
   "id": "8b4a07f3",
   "metadata": {},
   "source": [
    "#### 五. Complexity Classes\n",
    "1. tractable\n",
    "2. intractable\n",
    "3. non-computable\n",
    "\n",
    "#### Classes of problems:\n",
    "·P = problems for which an algorithm can compute answer in polynomial time.<br>\n",
    "NP = includes problems for which no P algorithm is known\n",
    "\n",
    "#### An Representative NP problem: Subset sum: O($2^n$)\n",
    "· Given a set of numbers, find if there is a subset of numbers which sums to k<br>\n",
    "If you can find a polynomial algorithm for Subset Sum, then any other NP-complete problem becomes P..."
   ]
  },
  {
   "cell_type": "code",
   "execution_count": null,
   "id": "d9cc99c5",
   "metadata": {},
   "outputs": [],
   "source": []
  }
 ],
 "metadata": {
  "kernelspec": {
   "display_name": "C",
   "language": "c",
   "name": "c"
  },
  "language_info": {
   "file_extension": ".c",
   "mimetype": "text/plain",
   "name": "c"
  }
 },
 "nbformat": 4,
 "nbformat_minor": 5
}
