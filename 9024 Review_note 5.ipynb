{
 "cells": [
  {
   "cell_type": "markdown",
   "id": "40506ee0",
   "metadata": {},
   "source": [
    "### 一. Transitive Closure-Warshal's algorithm\n"
   ]
  },
  {
   "cell_type": "markdown",
   "id": "743696cb",
   "metadata": {},
   "source": [
    "1. Reachability: Warshall\n",
    "2. Minimum Spanning Tree (MST) :Kruskal, Prim\n",
    "3. Shortest path problems:Dijkstra (single source SPP)\n",
    "4. Flow networks (Edmonds-Karp maximum flow)"
   ]
  }
 ],
 "metadata": {
  "kernelspec": {
   "display_name": "C",
   "language": "c",
   "name": "c"
  },
  "language_info": {
   "file_extension": ".c",
   "mimetype": "text/plain",
   "name": "c"
  }
 },
 "nbformat": 4,
 "nbformat_minor": 5
}
