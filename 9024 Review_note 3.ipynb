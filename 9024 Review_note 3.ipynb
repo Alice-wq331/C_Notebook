{
 "cells": [
  {
   "cell_type": "markdown",
   "id": "b7ccf1dc",
   "metadata": {},
   "source": [
    "### 一.Memory storage for commonly encountered data types\n",
    "· char: 1 byte<br>\n",
    "· int\\float:  4 bytes<br>\n",
    "· double:    8 bytes<br>\n",
    "· pointer:   8 bytes (for modern 64-bit computer)<br>"
   ]
  },
  {
   "cell_type": "markdown",
   "id": "c65ec8f2",
   "metadata": {},
   "source": [
    "#### Address\n",
    "· If we declare a variable k, the place where k is stored is denoted by &k<br>\n",
    "例：<br>\n",
    "int k;<br>\n",
    "printf(\"address of k is %p\\n\",&k);//%p means pointer<br>\n",
    "**note: string is already like a pointer, so scanf(\"%s\",str) instead of scanf(%s\",&str)**"
   ]
  },
  {
   "cell_type": "code",
   "execution_count": 43,
   "id": "b9b74475",
   "metadata": {},
   "outputs": [
    {
     "name": "stdout",
     "output_type": "stream",
     "text": [
      "0x7ffee1a3a567\n",
      "0x7ffee1a3a567\n",
      "qwer\n",
      "0x10e1f1fa6\n",
      "0x7ffee1a3a558\n",
      "0x7ffee1a3a558\n"
     ]
    }
   ],
   "source": [
    "#include <stdio.h>\n",
    "#include <stdlib.h>\n",
    "int main(){\n",
    "    char ch[]=\"qwer\";\n",
    "    int k=9;\n",
    "    printf(\"%p\\n\",ch);\n",
    "    printf(\"%p\\n\",&ch);//would be the same\n",
    "    char *cn=\"qwer\";\n",
    "    printf(\"%s\\n\",cn);\n",
    "    printf(\"%p\\n\",cn);\n",
    "    printf(\"%p\\n\",&cn);//would not be the same\n",
    "    cn=\"kjg\";\n",
    "    printf(\"%p\\n\",&cn);//would be the same\n",
    "    return 0;\n",
    "}"
   ]
  },
  {
   "cell_type": "markdown",
   "id": "7908a73c",
   "metadata": {},
   "source": [
    "#### 二. Swap the values of two variables by using pointers as function arguments"
   ]
  },
  {
   "cell_type": "code",
   "execution_count": 36,
   "id": "ea1aae68",
   "metadata": {},
   "outputs": [
    {
     "name": "stdout",
     "output_type": "stream",
     "text": [
      "6,5,3"
     ]
    }
   ],
   "source": [
    "#include <stdio.h>\n",
    "#include <stdlib.h>\n",
    "\n",
    "void swap(int *a, int* b){\n",
    "    int temp=*a;\n",
    "    *a=*b;\n",
    "    *b=temp;\n",
    "}\n",
    "\n",
    "int main(){\n",
    "    int a=5;\n",
    "    int b=6;\n",
    "    swap(&a,&b);\n",
    "    int*q;\n",
    "    int p=3;\n",
    "    q=&p;\n",
    "    printf(\"%d,%d,%d\",a,b,*q);\n",
    "    return 0;\n",
    "}"
   ]
  },
  {
   "cell_type": "markdown",
   "id": "befc0637",
   "metadata": {},
   "source": [
    "Note: for a pointer declared as T *p* (where T is a type)<br>\n",
    "If p already contains an address A:<br>\n",
    "p=p+k will be defautly set as p=A+sizeof(T)"
   ]
  },
  {
   "cell_type": "markdown",
   "id": "15ed5ebd",
   "metadata": {},
   "source": [
    "### 三.Command line arguments\n",
    "int main(int argc,char \\*argv[ ]){<br>\n",
    "...<br>\n",
    "}<br>\n",
    "· argc: count number of arguments: prog.c itself counts as 1, so argc>=1<br>\n",
    "· argv:array of arguments;<br>\n",
    "· argv[0] always contains the program name<br>\n",
    "· argv[1], argv[2]... are the command-line arguments if supplied<br>\n",
    "· char \\*argv[ ] can be replaced by a pointer to a pointer: char \\*\\*argv<br>\n",
    "&emsp;can also use argv[0], argv[1],..."
   ]
  },
  {
   "cell_type": "markdown",
   "id": "4713c714",
   "metadata": {},
   "source": [
    "### 四.A pointer to a struct\n",
    "WorkerT w;WorkerT \\*wp;<br>\n",
    "wp=&w;<br>\n",
    "**The following assignment is equal:**<br>\n",
    "· (\\*wp).salary=125000;<br>\n",
    "· wp->salary=125000;<br>\n",
    "· w.salary=125000;<br>\n",
    "**The following assignment is not correct:**<br>\n",
    "· \\*wp.salary=125000<br>\n",
    "· because==\\*(wp.salary)=125000;"
   ]
  },
  {
   "cell_type": "markdown",
   "id": "ac160142",
   "metadata": {},
   "source": [
    "### 五. C execution: Memory\n",
    "1. code (fixed-size)<Br>\n",
    "    contains the machine code instructions for the progam\n",
    "2. global data (data segment)(fixed-size)<Br>\n",
    "    contain global variables and constant strings\n",
    "3. heap: store dynamic data structures declared by malloc()\n",
    "4. stack: dynamically-allocated data (function local vars)<Br>\n",
    "    consists of frames: one for each current active function<br>\n",
    "    one frame containes local variables and house-keeping info"
   ]
  },
  {
   "cell_type": "markdown",
   "id": "efe17220",
   "metadata": {},
   "source": [
    "### Some instances for pointers"
   ]
  },
  {
   "cell_type": "code",
   "execution_count": 47,
   "id": "f456a2ca",
   "metadata": {},
   "outputs": [
    {
     "name": "stdout",
     "output_type": "stream",
     "text": [
      "8\n",
      "3\n",
      "3\n"
     ]
    }
   ],
   "source": [
    "#include <stdio.h>\n",
    "#include <stdlib.h>\n",
    "int mat[2][3]={\n",
    "    {3,4,6},\n",
    "    {1,6,7}\n",
    "};\n",
    "int p, *pp;\n",
    "int main(){\n",
    "    mat[1][2]=8;\n",
    "    pp=&p;\n",
    "    p=3;\n",
    "    printf(\"%d\\n\",mat[1][2]);\n",
    "    printf(\"%d\\n\",p);\n",
    "    printf(\"%d\\n\",*pp);\n",
    "    return 0;\n",
    "}"
   ]
  },
  {
   "cell_type": "markdown",
   "id": "a79755c4",
   "metadata": {},
   "source": [
    "### 六. malloc( ); assert( ); free( )\n",
    "1. malloc(size_t n) n:size of bytes e.g. #\\* sizeof(datatype)<Br>\n",
    "    in <stdlib.h>\n",
    "    void *malloc(size_t):return a pointer\n",
    "2. assert(p!=NULL);\n",
    "    in <assert.h>\n",
    "3. free(p)\n",
    "    void free (void *ptr)\n",
    "    1. the contents of the memory bloak are not changed\n",
    "    2. all pointers to the block still exist, but are not valid\n",
    "    3. the memory may be re-used as soon as it is free( )'d"
   ]
  },
  {
   "cell_type": "markdown",
   "id": "16aaba3d",
   "metadata": {},
   "source": [
    "**exit(v) : terminates the program with return value v**"
   ]
  },
  {
   "cell_type": "markdown",
   "id": "3b786d75",
   "metadata": {},
   "source": [
    "### 七. Standard IO Streams, Redirects\n",
    "1. stdin  standard input, by default: keyboard\n",
    "2. stdout  standard output: by default: screen\n",
    "3. stderr. standard error  by default: screen\n",
    "\n",
    "· fprintf(stdout,...)== printf(...)<br>\n",
    "· fprintf(stderr,...) used to print error messages<br>\n",
    "\n",
    "1. redirect stdin: \\$ myprog < input.data \n",
    "2. redirect stdout: \\$ myprog > output.data\n",
    "3. redirect stderr: $ myprog 2>error.data"
   ]
  },
  {
   "cell_type": "code",
   "execution_count": 55,
   "id": "c6d98cca",
   "metadata": {},
   "outputs": [],
   "source": [
    "#include <stdio.h>\n",
    "#include <stdlib.h>\n",
    "#include <assert.h>\n",
    "\n",
    "typedef struct{\n",
    "    int day,month;\n",
    "}DateT;\n",
    "DateT d1;\n",
    "\n",
    "struct date{\n",
    "    int day,month;\n",
    "};\n",
    "struct date d2;\n",
    "\n",
    "typedef struct Note{\n",
    "    int value;\n",
    "    struct Note* next;\n",
    "}NoteT;\n",
    "\n",
    "int main(){\n",
    "    d1.day=31;\n",
    "    d1.month=3;\n",
    "    d2.day=30;\n",
    "    d2.month=3;\n",
    "    NoteT note;\n",
    "    return 0;\n",
    "}"
   ]
  },
  {
   "cell_type": "markdown",
   "id": "fc652c1d",
   "metadata": {},
   "source": [
    "### Make/Make file\n",
    "#### format: \n",
    "target: source1, source2,...<br>\n",
    "    &emsp;&emsp;commands to build target from sources<br>\n",
    "#### example:\n",
    "game: main.o graphics.o stack.o<br>\n",
    "&emsp;&emsp; gcc -o game main.o graphics.o stack.o<br>\n",
    "main.o: main.c graphics.h stack.h<br>\n",
    "&emsp;&emsp; gcc -Wall -Werror -std=c11 main.c<br>\n",
    "graphics.o: graphics.c stack.h<br>\n",
    "&emsp;&emsp; gcc -Wall -Werror -std=c11 graphics.c<br>\n",
    "stack.o: stack.c <br>\n",
    "&emsp;&emsp; gcc -Wall -Werror -std=c11 stack.c<br>\n",
    "#### in prompt\n",
    "prompt\\\\$ make(stack.o)//when make arguments are targets<br>\n",
    "&emsp;&emsp; gcc -Wall -Werror -std=c11 stack.c<br>\n",
    "prompt\\\\$ make //if no args, build first in the makefile<Br>\n",
    "    &emsp;&emsp;game: main.o graphics.o stack.o<Br>\n",
    "    &emsp;&emsp;&emsp;&emsp; gcc -o game main.o graphics.o stack.o<br>\n",
    "    &emsp;&emsp;main.o: main.c graphics.h stack.h<br>\n",
    "    &emsp;&emsp;&emsp;&emsp; gcc -Wall -Werror -std=c11 main.c<br>\n",
    "    &emsp;&emsp;graphics.o: graphics.c stack.h<br>\n",
    "    &emsp;&emsp;&emsp;&emsp; gcc -Wall -Werror -std=c11 graphics.c<br>\n",
    "    &emsp;&emsp;stack.o: stack.c <br>"
   ]
  },
  {
   "cell_type": "code",
   "execution_count": null,
   "id": "5a102190",
   "metadata": {},
   "outputs": [],
   "source": []
  }
 ],
 "metadata": {
  "kernelspec": {
   "display_name": "C",
   "language": "c",
   "name": "c"
  },
  "language_info": {
   "file_extension": ".c",
   "mimetype": "text/plain",
   "name": "c"
  }
 },
 "nbformat": 4,
 "nbformat_minor": 5
}
