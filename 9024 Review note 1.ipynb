{
 "cells": [
  {
   "cell_type": "markdown",
   "id": "2d5c9cf7",
   "metadata": {},
   "source": [
    "### installation of C kernel in jupyter notebook for mac:\n",
    "url: juejin.cn/post/6844903936583794696"
   ]
  },
  {
   "cell_type": "markdown",
   "id": "9105138d",
   "metadata": {},
   "source": [
    "### 一.双引号与单引号区别：\n",
    "#### 1. 含义不同\n",
    "用单引号引起的一个字符实际上代表一个整数，整数值对应于该字符在编译器采用的字符集中的序列值。而一般我们的编译器采用的都是ASCII字符集。因此‘s'的含义其实和十进制数115的含义是一致的。\n",
    "而用双引号引起的字符串，代表的是一个指向无名数组起始字符的指针。"
   ]
  },
  {
   "cell_type": "code",
   "execution_count": 31,
   "id": "a6f246f4",
   "metadata": {},
   "outputs": [
    {
     "name": "stdout",
     "output_type": "stream",
     "text": [
      "True yes"
     ]
    }
   ],
   "source": [
    "#include <stdio.h>\n",
    "#include <stdlib.h>\n",
    "\n",
    "int main(){\n",
    "    char w[]=\"try hard\";               //here cannot written as 'try hard'\n",
    "    if(w[0]=='t'){                     //here cannot written as \"t\"\n",
    "        printf(\"True%s\",\" yes\");       //here cannot written as 'True', because 'True' is regarded as int\n",
    "    }\n",
    "    return 0;\n",
    "}"
   ]
  },
  {
   "cell_type": "markdown",
   "id": "3d01c3cc",
   "metadata": {},
   "source": [
    "#### 2.大小不同\n",
    "用单引号引起的一个字符大小就是一个字节。\n",
    "而用双引号引起的字符串大小是字符的总大小+1，因为用双引号引起的字符会在字符串末尾添加一个二进制为0的字符'\\0'，符合string数据类型的格式\n"
   ]
  },
  {
   "cell_type": "markdown",
   "id": "6d3f4bbe",
   "metadata": {},
   "source": [
    "### 二.Rename a program instead of a.out:\n",
    "gcc -o prog prog.c<br>\n",
    "**gcc -c (links), -o (makes executable)**\n",
    "### 三.Printf format\n",
    "%d decimal     &emsp; %f floating-point<br>\n",
    "%c character     &emsp;  %s string<br>\n",
    "%p pointer<br>\n",
    "\\n  new line     &emsp;  \\'' quotation mark<br>\n",
    "#### Use width and precision:\n",
    "**%8.3f**: 8 means the **minimum** space including the whole part, point and decimal part<br>\n",
    "If the total number of characters is less than 8, then it fills with the blank spaces at the left of the float <br>\n",
    "**%-8.3f:** means it fills with the blank spaces at the **right** side of the number."
   ]
  },
  {
   "cell_type": "markdown",
   "id": "3dbbea1a",
   "metadata": {},
   "source": [
    "### 四. In C, assignments are really expressions:\n",
    "#### 1. The return value would be ignored (not printed)\n",
    "#### 2. The value would be assigned to the variable\n",
    "**We can combine the test with collecting the next value by including the assigment in the while clause**"
   ]
  },
  {
   "cell_type": "markdown",
   "id": "281ad058",
   "metadata": {},
   "source": [
    "while (v=readNextvalue()!=0){<br>\n",
    "   &emsp;process(v);<br>\n",
    "}<br>\n",
    "**Instead of**<br>\n",
    "v=readNextvalue();<br>\n",
    "while (v!=0){<br>\n",
    "  &emsp;process(v);<br>\n",
    "  &emsp;v=readNextvalue();<br>\n",
    "}"
   ]
  },
  {
   "cell_type": "markdown",
   "id": "330eb462",
   "metadata": {},
   "source": [
    "### 五.Two styles of loops"
   ]
  },
  {
   "cell_type": "code",
   "execution_count": 35,
   "id": "1852527a",
   "metadata": {},
   "outputs": [],
   "source": [
    "#include <stdio.h>\n",
    "#include <stdlib.h>\n",
    "int main(){\n",
    "    int i=0;\n",
    "    while(i>0){\n",
    "        printf(\"Yes\");\n",
    "    }\n",
    "    return 0;\n",
    "}"
   ]
  },
  {
   "cell_type": "code",
   "execution_count": 36,
   "id": "e80b0abb",
   "metadata": {},
   "outputs": [
    {
     "name": "stdout",
     "output_type": "stream",
     "text": [
      "Yes"
     ]
    }
   ],
   "source": [
    "#include <stdio.h>\n",
    "#include <stdlib.h>\n",
    "int main(void){         //int main()也行；  \n",
    "                        //if void main() then nothing is returned (written as: return;)\n",
    "    int i=0;\n",
    "    do{\n",
    "        printf(\"Yes\");\n",
    "    }while(i>0);\n",
    "    return 0;\n",
    "}                       //at least loop once"
   ]
  },
  {
   "cell_type": "markdown",
   "id": "d975deb7",
   "metadata": {},
   "source": [
    "### 六.Basic Data types\n",
    "char<br>\n",
    "bool<br>\n",
    "int<br>\n",
    "float: floating-point number<br>\n",
    "double: double precision floating-point <br>"
   ]
  },
  {
   "cell_type": "markdown",
   "id": "84d10c61",
   "metadata": {},
   "source": [
    "### 七.C-coding style guid (very useful)\n",
    "url: wiki.cse.unsw.edu.au/info/CoreCourses/StyleGuide"
   ]
  },
  {
   "cell_type": "markdown",
   "id": "79c0c045",
   "metadata": {},
   "source": [
    "### 八.Define a symbolic constant\n",
    "#### Put the define clause at top:\n",
    "\n",
    "#define *Name* replacement_text<br><br>\n",
    "The compiler would treat all occurences of ***Name*** in the program as replacement_text"
   ]
  },
  {
   "cell_type": "code",
   "execution_count": 50,
   "id": "dfe7c2f0",
   "metadata": {},
   "outputs": [
    {
     "name": "stdout",
     "output_type": "stream",
     "text": [
      "Out of memory.\n",
      "f\n",
      "\u00000"
     ]
    }
   ],
   "source": [
    "#include <stdio.h>\n",
    "#include <stdlib.h>\n",
    "\n",
    "#define error_message \"Out of memory.\\n\"\n",
    "\n",
    "int main(){\n",
    "    printf(error_message);\n",
    "    return 0;\n",
    "}"
   ]
  },
  {
   "cell_type": "markdown",
   "id": "2f7a8b9c",
   "metadata": {},
   "source": [
    "**Other examples:**\n",
    "#define left(tree) ((tree)->left)"
   ]
  },
  {
   "cell_type": "markdown",
   "id": "219787f7",
   "metadata": {},
   "source": [
    "int main(){  \n",
    "    &emsp;char fib[20]={'s','f'};  \n",
    "    &emsp; int hi[20]={1,2};  \n",
    "    &emsp; printf(\"%c\\n\",fib[1]);  \n",
    "    &emsp; printf(\"%c\",fib[4]);     &emsp;//No output  \n",
    "    &emsp; printf(\"%d\",hi[4]);      &emsp;//0 (但不一定总是吧）  \n",
    "    &emsp; return 0;  \n",
    "}  "
   ]
  },
  {
   "cell_type": "markdown",
   "id": "5e3324a4",
   "metadata": {},
   "source": [
    "### 九.scanf() and atoi()\n",
    "**scanf()**:in <stdio.h>  \n",
    "**atoi()**: in <stdlib.h>  \n",
    "e.g.   \n",
    "char str[20];   \n",
    "scanf(\"%19s\",str);   \n",
    "<br>\n",
    "int value;  \n",
    "value=atoi(string);"
   ]
  },
  {
   "cell_type": "code",
   "execution_count": 56,
   "id": "212939fc",
   "metadata": {},
   "outputs": [
    {
     "name": "stdout",
     "output_type": "stream",
     "text": [
      "Input a string."
     ]
    }
   ],
   "source": [
    "#include <stdio.h>\n",
    "#include <stdlib.h>\n",
    "#define MAX_ 9\n",
    "int main(void){   \n",
    "    char str[MAX_];\n",
    "    printf(\"Input a string.\");\n",
    "    scanf(\"%8s\",str);    //If the length is over 8, also only scan the first 8 characters, \n",
    "                         //and no matter what MAX_ is, 9 or 7\n",
    "    printf(\"%s\",str);\n",
    "    return 0;\n",
    "}  "
   ]
  },
  {
   "cell_type": "markdown",
   "id": "98147480",
   "metadata": {},
   "source": [
    "### 十. When input an array to a function as an argument\n",
    "### An exception to the 'call-by-value' principle: its address is passed\n",
    "**Prototype:** <br>\n",
    "int test(int[ ]);<br>\n",
    "int test(int[ ],int);<br> \n",
    "e.g.    <br>\n",
    "int test(int ar[ ]){<br> \n",
    "&emsp;... <br>\n",
    "} <br>"
   ]
  },
  {
   "cell_type": "markdown",
   "id": "cb2e0f00",
   "metadata": {},
   "source": [
    "### 十一. Define New Data Types\n",
    "typedef existingDT *NewDT*;<br>\n",
    "e.g.  \n",
    "typedef float *Real*;<br>\n",
    "typedef int *Matrix*[20][20];"
   ]
  },
  {
   "cell_type": "markdown",
   "id": "9bfe28ba",
   "metadata": {},
   "source": [
    "### Multi-dimensional array\n",
    "e.g. <br>\n",
    "float m[ ][ ]={ <br>\n",
    " &ensp;{1.3,2,3}, <br>\n",
    " &ensp;{2,3,4.5} <br>\n",
    " }; <br>"
   ]
  },
  {
   "cell_type": "markdown",
   "id": "aa849059",
   "metadata": {},
   "source": [
    "### Structures\n",
    "typedef struct{ <br>\n",
    "    &emsp;&emsp;int month, day;<br>\n",
    "}DateT <br>\n",
    "**or**<br>\n",
    "typedef struct DateT{ <br>\n",
    "    &emsp;&emsp;int month, day;<br>\n",
    "}DateT <br>\n",
    "###  Note: \n",
    "paddings(填充) would be added to make all sub values in a structure align"
   ]
  },
  {
   "cell_type": "markdown",
   "id": "d9da22cf",
   "metadata": {},
   "source": [
    "### 十二. static *Type* *var*\n",
    "static clause make *var* local to the .c file containing this  \n",
    "**static variables would be stored in the data segment in the memory storage** \n",
    "1. static varibles would be initialized as 0 if we don't assign any value to it \n",
    "2. The diffrence between static variables and global variables is that: <br>\n",
    "If static variables are declared inside a function, it still only can be called inside that function.  \n",
    "But global variables can be calle by any function"
   ]
  },
  {
   "cell_type": "code",
   "execution_count": null,
   "id": "6951da27",
   "metadata": {},
   "outputs": [],
   "source": []
  }
 ],
 "metadata": {
  "kernelspec": {
   "display_name": "C",
   "language": "c",
   "name": "c"
  },
  "language_info": {
   "file_extension": ".c",
   "mimetype": "text/plain",
   "name": "c"
  }
 },
 "nbformat": 4,
 "nbformat_minor": 5
}
