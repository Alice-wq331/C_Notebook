{
 "cells": [
  {
   "cell_type": "markdown",
   "id": "a35cf62e",
   "metadata": {},
   "source": [
    "## Graphs"
   ]
  },
  {
   "cell_type": "markdown",
   "id": "a5722bc2",
   "metadata": {},
   "source": [
    "### 一.Properties of Graphs\n",
    "1. for an un-directed graph with V verticies: it has at most V(V-1)/2 edges\n",
    "2. The ratio E:V can vary very considerably:<Br>\n",
    "    if E is closer to $V^2$, the graph is dense<br>\n",
    "    if E is closer to V, the graph is sparse"
   ]
  },
  {
   "cell_type": "markdown",
   "id": "f45753e1",
   "metadata": {},
   "source": [
    "### 二.Terminology of Graphs\n",
    "1. incident: an edge e:w-v; e is incident on both w and v\n",
    "2. simple path: a path where all vertices and edges are different\n",
    "3. connected graph: there is a path from each vertex to every other vertex\n",
    "4. complete graph $K_V$: there is an edge from each vertex to every other vertex; E=V(V-1)/2\n",
    "5. Tree: connected (sub)graph with no cycles\n",
    "6. Spanning tree: tree containing all vertices\n",
    "7. Spanning forest: a subgraph of G, a set of trees (with one tree for each connected component) containing all vertices of the graph\n",
    "8. Clique: complete subgraph"
   ]
  },
  {
   "cell_type": "markdown",
   "id": "ecfacb86",
   "metadata": {},
   "source": [
    "#### Undirected graph: edge(u,v)=edge(v,u), no self-loops (no edge(v,v))\n",
    "#### Directed graph: edge(u,v)!=edge(v,u), can have self-loops (i.e. edge(v,v))\n",
    "#### Weighted graph: each edge has associated value (weight)"
   ]
  },
  {
   "cell_type": "markdown",
   "id": "1d6975e6",
   "metadata": {},
   "source": [
    "### 三. Representations of graphs\n",
    "1. array of edges\n",
    "2. adjacency matrix\n",
    "3. adjacency list"
   ]
  },
  {
   "cell_type": "markdown",
   "id": "0fc292a9",
   "metadata": {},
   "source": [
    "### 四.Comparison of Graph representations\n",
    "Type: array of edges, adjacency matrix, adjacency list<br>\n",
    "1. space usage: E, $V^2$, V+E\n",
    "2. initialise: 1, $V^2$, V\n",
    "3. insert edge 1, 1, 1\n",
    "4. find/delete edge: E, 1, V\n",
    "<br>\n",
    "5. disconnected(V)? E, V, 1\n",
    "6. isPath(x,y)? E$\\cdot$log(V),$V^2$, V+E\n",
    "7. copy graph: E, $V^2$, E\n",
    "8. destroy graph: 1, V, E"
   ]
  },
  {
   "cell_type": "markdown",
   "id": "fdc300dd",
   "metadata": {},
   "source": [
    "### calloc(size_t nelems, size_t nbytes) //size_t: unsigned integer (must be 0 or positive)"
   ]
  },
  {
   "cell_type": "markdown",
   "id": "04dce45f",
   "metadata": {},
   "source": [
    "## Graph Algorithms\n",
    "1. graph traversal (simple graphs)\n",
    "2. reachability (directed graphs)\n",
    "3. minimum spanning trees (weighted graphs)\n",
    "4. shortest path (weighted graphs)\n",
    "5. maximum flow (weighted graphs)"
   ]
  },
  {
   "cell_type": "markdown",
   "id": "639d288a",
   "metadata": {},
   "source": [
    "#### DFS;BFS;Halmiltonian; Euler\n",
    "DFS:stack or recursive<br>\n",
    "BFS: queue;<br>\n",
    "If there is a circle: \n",
    "1. remember to consider all components\n",
    "2. prevent a single edge being considered as a circle (w-v, v-w, w has been visited)<br>\n",
    "\n",
    "Hamiltonian: Take use of DFS, remember to unvisit vertex if fails<br>\n",
    "Euler: take use of theorems"
   ]
  },
  {
   "cell_type": "code",
   "execution_count": null,
   "id": "6597ef63",
   "metadata": {},
   "outputs": [],
   "source": []
  }
 ],
 "metadata": {
  "kernelspec": {
   "display_name": "C",
   "language": "c",
   "name": "c"
  },
  "language_info": {
   "file_extension": ".c",
   "mimetype": "text/plain",
   "name": "c"
  }
 },
 "nbformat": 4,
 "nbformat_minor": 5
}
