{
 "cells": [
  {
   "cell_type": "markdown",
   "id": "58255164",
   "metadata": {},
   "source": [
    "### 一. Tree Data Structures\n",
    "1. m-ary tree: each internal node has exactly m children\n",
    "2. Ordered tree: all left values<root, all right values>root\n",
    "3. Balanced tree: has minimal height for a given number of nodes\n",
    "4. Degenerate tree: has maximal height for a given number of nodes"
   ]
  },
  {
   "cell_type": "markdown",
   "id": "ff57133f",
   "metadata": {},
   "source": [
    "**Perfectly balanced trees have the properties**<br>\n",
    "1. \\# of nodes in left subtree=# of nodes in right subtree\n",
    "2. this property applies over all nodes in the tree"
   ]
  },
  {
   "cell_type": "markdown",
   "id": "568dd5ec",
   "metadata": {},
   "source": [
    "**Some terminology**<br>\n",
    "1. level of node: path length from root to node (root=0)\n",
    "2. Height of tree: max path length from root to leaf\n",
    "3. Height-balanced tree: for all nodes: height(left subtree)=height(right subtree)+/- 1"
   ]
  },
  {
   "cell_type": "markdown",
   "id": "6a4c82bc",
   "metadata": {},
   "source": [
    "### 二. Tree Traversal\n"
   ]
  }
 ],
 "metadata": {
  "kernelspec": {
   "display_name": "C",
   "language": "c",
   "name": "c"
  },
  "language_info": {
   "file_extension": ".c",
   "mimetype": "text/plain",
   "name": "c"
  }
 },
 "nbformat": 4,
 "nbformat_minor": 5
}
